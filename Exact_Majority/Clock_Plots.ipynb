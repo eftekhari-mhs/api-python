{
  "nbformat": 4,
  "nbformat_minor": 0,
  "metadata": {
    "colab": {
      "name": "Clock_Plots.ipynb",
      "provenance": [],
      "collapsed_sections": [],
      "include_colab_link": true
    },
    "kernelspec": {
      "name": "python3",
      "display_name": "Python 3"
    }
  },
  "cells": [
    {
      "cell_type": "markdown",
      "metadata": {
        "id": "view-in-github",
        "colab_type": "text"
      },
      "source": [
        "<a href=\"https://colab.research.google.com/github/eftekhari-mhs/api-python/blob/master/Exact_Majority/Clock_Plots.ipynb\" target=\"_parent\"><img src=\"https://colab.research.google.com/assets/colab-badge.svg\" alt=\"Open In Colab\"/></a>"
      ]
    },
    {
      "cell_type": "code",
      "metadata": {
        "id": "VEdqU64bFHrg",
        "colab": {
          "base_uri": "https://localhost:8080/"
        },
        "outputId": "3fb0522e-5ca5-41a2-ed7e-b0525c538467"
      },
      "source": [
        "# Import the required libraries\n",
        "import pandas as pd\n",
        "import matplotlib.pyplot as plt\n",
        "plt.rcParams.update({'font.size': 22})\n",
        "import matplotlib.patches as mpatches\n",
        "from sklearn.linear_model import LinearRegression\n",
        "\n",
        "from ipywidgets import interact, interactive, fixed, interact_manual\n",
        "import ipywidgets as widgets\n",
        "\n",
        "%matplotlib inline\n",
        "import math\n",
        "import numpy as np\n",
        "\n",
        "from google.colab import drive\n",
        "drive.mount('/content/drive')"
      ],
      "execution_count": 1,
      "outputs": [
        {
          "output_type": "stream",
          "text": [
            "Mounted at /content/drive\n"
          ],
          "name": "stdout"
        }
      ]
    },
    {
      "cell_type": "markdown",
      "metadata": {
        "id": "GWbxf8W4l31B"
      },
      "source": [
        "Let's look at the first time that 0.1 percent and 90 percent of the population residing in hour $i$:"
      ]
    },
    {
      "cell_type": "code",
      "metadata": {
        "id": "omvuQnrWxm7E",
        "cellView": "form"
      },
      "source": [
        "#@title Fix a population size, let's look at different pvalues and kvalues: (Average of 20 trials)\r\n",
        "\r\n",
        "#@markdown make sure .txt files are uploaded\r\n",
        "\r\n",
        "path = \"/content/drive/My Drive/Colab_majority/clock_hitting_time_p10_p90_\"\r\n",
        "import requests\r\n",
        "\r\n",
        "# url = 'https://raw.githubusercontent.com/eftekhari-mhs/population-protocols/master/Exact_Majority/simulation_results/clock_hitting_time_p10_p90_'\r\n",
        "\r\n",
        "#@markdown fix p=0.01 change k : \"N_9508_LOG_13\", \"N_26544_LOG_14\",\"N_35258_LOG_15\",\"N_76723_LOG_16\" (one way epidemic)\r\n",
        "\r\n",
        "#@markdown fix p=0.01 change k : \"N_9508_LOG_13\", \"N_26544_LOG_14\",\"N_35258_LOG_15\",\"N_76723_LOG_16\" (two way epidemic)\r\n",
        "nvalues_fixp = [\"N_1000_LOG_20\", \"N_10000_LOG_20\", \"N_100000_LOG_20\",\"N_1000000_LOG_20\"]\r\n",
        "#@markdown fix k=5 change p : \"N_12146_LOG_13\", \"N_23141_LOG_14\", \"N_53022_LOG_15\", \"N_91829_LOG_16\",\"N_211023_LOG_17\"(one way epidemic)\r\n",
        "nvalues_fixk = [\"N_1000_LOG_20\", \"N_10000_LOG_20\",\"N_100000_LOG_20\",\"N_1000000_LOG_20\"]\r\n",
        "# population_size = \"N_26544_LOG_14\" #@param [\"N_12146_LOG_13\", \"N_23141_LOG_14\", \"N_53022_LOG_15\", \"N_91829_LOG_16\",\"N_211023_LOG_17\",\"N_9508_LOG_13\", \"N_26544_LOG_14\",\"N_35258_LOG_15\",\"N_76723_LOG_16\" ] \r\n",
        "\r\n",
        "# import matplotlib.pylab as plt\r\n",
        "import matplotlib.pyplot as plt\r\n",
        "\r\n",
        "def plot_average(mylist, fixp, fixk):\r\n",
        "  # fig, axs = plt.subplots(len(mylist),figsize=(15,15))\r\n",
        "  fig, ax = plt.subplots(figsize = (6,3))\r\n",
        "  if fixk:\r\n",
        "    plt.title('time per synchronous hour in different n, p for fixed k = 5')    \r\n",
        "  if fixp:\r\n",
        "    plt.title('time per synchronous hour in different n, k for fixed p = 0.01') \r\n",
        "    slopes = []   \r\n",
        "  i=0\r\n",
        "  ns = []\r\n",
        "  for nx in mylist:\r\n",
        "    n = int(nx.split(\"_\")[1])\r\n",
        "    ns.append(n)\r\n",
        "    logn = int(nx.split(\"_\")[3])\r\n",
        "    if fixk:\r\n",
        "      nx = nx + \"_fixk\"\r\n",
        "    if fixp:\r\n",
        "      nx = nx + \"_fixp\"\r\n",
        "    filename = path+nx+\".txt\"\r\n",
        "    \r\n",
        "    # req = requests.get(filename, stream=True)\r\n",
        "    \r\n",
        "    file = open(filename, 'r') \r\n",
        "    Lines = file.readlines()     \r\n",
        "    line_number = 0\r\n",
        "    ave_fixk = {}\r\n",
        "    ave_fixp = {}\r\n",
        "    # Strips the newline character \r\n",
        "    for line in Lines: \r\n",
        "    # for line in req.iter_lines():\r\n",
        "      # line = line[2:-1]\r\n",
        "      # line = line.decode(\"utf-8\")       \r\n",
        "      line_number = line_number + 1  \r\n",
        "      if line != '404: Not Found':                    \r\n",
        "        if line_number%2 == 1:\r\n",
        "          s = line.strip().split(\"_\")        \r\n",
        "          pvalue = float(s[1])      \r\n",
        "          kvalue = int(s[3])              \r\n",
        "        else: \r\n",
        "          diff = [float(s) for s in line.strip()[1:-1].split(\",\")]    \r\n",
        "          if kvalue ==5:\r\n",
        "            ave_fixk[pvalue]= np.mean(diff)\r\n",
        "          if pvalue ==0.01:\r\n",
        "            ave_fixp[kvalue]= np.mean(diff)        \r\n",
        "      else:\r\n",
        "        print(line)\r\n",
        "    \r\n",
        "    if fixk:\r\n",
        "      lists = sorted(ave_fixk.items()) # sorted by key, return a list of tuples\r\n",
        "    if fixp:\r\n",
        "      lists = sorted(ave_fixp.items()) # sorted by key, return a list of tuples      \r\n",
        "    x, y = zip(*lists) # unpack a list of pairs into two tuples\r\n",
        "    \r\n",
        "    x = np.array(x)\r\n",
        "    y = np.array(y) \r\n",
        "    ax.plot(x, y)    \r\n",
        "    if fixp:\r\n",
        "      model = LinearRegression().fit(x.reshape((-1, 1)), y)\r\n",
        "      slopes.append(model.coef_[0])\r\n",
        "    # plt.plot(x[outlier:], y[outlier:])\r\n",
        "  plt.ylabel(\"time per synchronous hour\")   \r\n",
        "  if fixk:\r\n",
        "    plt.xlabel(\"p\")\r\n",
        "    plt.legend([f'n = 10^{int(np.log10(n))}' for n in ns])  \r\n",
        "    # axs[i].set_yscale('log')\r\n",
        "    # axs[i].set_xscale('log')\r\n",
        "    # axs[i].set_title(f\"pvalues, n = {n}\")      \r\n",
        "    ax.set_xscale('log')\r\n",
        "    ax.set_ylim(0,100)\r\n",
        "    # ax.set_title(f\"pvalues, n = {n}\")    \r\n",
        "    # plt.xlabel(f\"pvalues, k = 5, n = {n}\")\r\n",
        "  if fixp:\r\n",
        "    plt.xlabel(\"k\")\r\n",
        "    plt.legend([f'n = 10^{int(np.log10(n))}, slope = {slope:.3f}' for n, slope in zip(ns, slopes)])  \r\n",
        "    # axs[i].set_title(f\"kvalues, n = {n}\")      \r\n",
        "    # ax.set_title(f\"kvalues, n = {n}\")    \r\n",
        "    ax.set_xticks(np.arange(1,21,1))\r\n",
        "    # plt.xlabel(f\"kvalues, n = {n}\")\r\n",
        "  i+=1\r\n",
        "  return fig, ax"
      ],
      "execution_count": 3,
      "outputs": []
    },
    {
      "cell_type": "code",
      "metadata": {
        "colab": {
          "base_uri": "https://localhost:8080/",
          "height": 241
        },
        "id": "_MIfAM5pNQvH",
        "outputId": "7b2d2628-d1da-403e-90d4-a296ae003798"
      },
      "source": [
        "fig, ax = plot_average(nvalues_fixp, True, False)\r\n",
        "fig.savefig('hour_length_varying_k.pdf')\r\n",
        "fig.savefig('hour_length_varying_k.svg')"
      ],
      "execution_count": 4,
      "outputs": [
        {
          "output_type": "display_data",
          "data": {
            "image/png": "[encoded data removed]",
            "text/plain": [
              "<Figure size 432x216 with 1 Axes>"
            ]
          },
          "metadata": {
            "tags": [],
            "needs_background": "light"
          }
        }
      ]
    },
    {
      "cell_type": "code",
      "metadata": {
        "colab": {
          "base_uri": "https://localhost:8080/",
          "height": 225
        },
        "id": "1ftGbuMAIpPr",
        "outputId": "b6d2fc60-ff8f-47d5-bb21-647f04e32983"
      },
      "source": [
        "from scipy.integrate import quad\r\n",
        "\r\n",
        "ps = [10 ** (i/10) for i in range(0, -100, -1)]\r\n",
        "lower_bound_constants = []\r\n",
        "upper_bound_constants = []\r\n",
        "for p in ps:\r\n",
        "  lower_bound_constants.append(quad(lambda x: 1 / (p * ((1 - x) ** 2) + 2 * x * (1-x)), 0.1*p, 0.1)[0])\r\n",
        "  upper_bound_constants.append(quad(lambda x: 1 / (p * ((0.9 - x) ** 2) + 2 * x * (1-x)), 0, 0.9)[0])\r\n",
        "fig = plt.figure(figsize = (6,3))\r\n",
        "plt.plot(ps, lower_bound_constants)\r\n",
        "plt.plot(ps, upper_bound_constants)\r\n",
        "plt.xscale(\"log\")\r\n",
        "plt.xlabel(\"p\")\r\n",
        "plt.title(\"Bound Constants depending on p\")\r\n",
        "plt.legend([\"Lower Bound Constant\", \"Upper Bound Constant\"])\r\n",
        "plt.tight_layout()\r\n",
        "fig.savefig('bound_constants.pdf')\r\n",
        "fig.savefig('bound_constants.svg')"
      ],
      "execution_count": 5,
      "outputs": [
        {
          "output_type": "display_data",
          "data": {
            "image/png": "[encoded data removed]",
            "text/plain": [
              "<Figure size 432x216 with 1 Axes>"
            ]
          },
          "metadata": {
            "tags": [],
            "needs_background": "light"
          }
        }
      ]
    },
    {
      "cell_type": "code",
      "metadata": {
        "colab": {
          "base_uri": "https://localhost:8080/",
          "height": 245
        },
        "id": "V-F2we_2SPUT",
        "outputId": "2fd4b7f7-6a15-4c20-b33d-ffc705daf654"
      },
      "source": [
        "fig, ax = plot_average(nvalues_fixk, False, True)\r\n",
        "\r\n",
        "ps = [10 ** (i/10) for i in range(0, -40, -1)]\r\n",
        "lower_bounds = []\r\n",
        "upper_bounds = []\r\n",
        "for p in ps:\r\n",
        "  lower_bounds.append(quad(lambda x: 1 / (p * ((1 - x) ** 2) + 2 * x * (1-x)), 0.1*p, 0.1)[0] * 4 - 2.2)\r\n",
        "  upper_bounds.append(quad(lambda x: 1 / (p * ((0.9 - x) ** 2) + 2 * x * (1-x)), 0, 0.9)[0] * 5)\r\n",
        "\r\n",
        "plt.plot(ps, lower_bounds, linestyle = 'dashed', color = 'k')\r\n",
        "plt.plot(ps, upper_bounds, linestyle = 'dotted', color = 'k')\r\n",
        "plt.ylim(0, 35)\r\n",
        "plt.legend([f'n = 10^{i}' for i in range(3,7)] + ['lower bound', 'upper bound'])\r\n",
        "fig.savefig('hour_length_varying_p.pdf')\r\n",
        "fig.savefig('hour_length_varying_p.svg')\r\n"
      ],
      "execution_count": 6,
      "outputs": [
        {
          "output_type": "display_data",
          "data": {
            "image/png": "[encoded data removed]",
            "text/plain": [
              "<Figure size 432x216 with 1 Axes>"
            ]
          },
          "metadata": {
            "tags": [],
            "needs_background": "light"
          }
        }
      ]
    },
    {
      "cell_type": "markdown",
      "metadata": {
        "id": "Q1k8khnIAI3m"
      },
      "source": [
        "## Old codes."
      ]
    },
    {
      "cell_type": "code",
      "metadata": {
        "id": "ZEMyCCJSl1Jr",
        "cellView": "form"
      },
      "source": [
        "#@title Fix a population size, let's look at different pvalues and kvalues:\r\n",
        "#\r\n",
        "#@markdown make sure .txt files are uploaded\r\n",
        "\r\n",
        "path = \"/content/drive/My Drive/Colab_majority/clock_hitting_time_p10_p90_\"\r\n",
        "\r\n",
        "population_size = \"N_2797144_LOG_21\" #@param [\"N_613213_LOG_19\", \"N_2797144_LOG_21\"]\r\n",
        "n = int(population_size.split(\"_\")[1])\r\n",
        "logn = int(population_size.split(\"_\")[3])\r\n",
        "filename = path+population_size+\".txt\"\r\n",
        "# Using readlines() \r\n",
        "file1 = open(filename, 'r') \r\n",
        "Lines = file1.readlines() \r\n",
        "\r\n",
        "pvalue = 0.1;\r\n",
        "kvalue = 1;\r\n",
        "count = 0\r\n",
        "# Strips the newline character \r\n",
        "for line in Lines: \r\n",
        "    count+=1\r\n",
        "    # print(\"Line{}: {}\".format(count, line.strip()))   \r\n",
        "    if count%3 == 1:\r\n",
        "      s = line.strip().split(\"_\")\r\n",
        "      # print(s)\r\n",
        "      pvalue = float(s[1])      \r\n",
        "      kvalue = int(s[3])      \r\n",
        "      print(f\"Pvalue is {pvalue} and Kvalue is {kvalue} (number of minutes per hour).\") \r\n",
        "    elif count%3 == 2:      \r\n",
        "      percent10 = [int(s) for s in line.strip()[1:-1].split(\",\")]      \r\n",
        "      print(f\"0.1%: {percent10}\")\r\n",
        "    else: \r\n",
        "      percent90 = [int(s) for s in line.strip()[1:-1].split(\",\")]\r\n",
        "      print(f\"90%: {percent90}\")\r\n",
        "      # plt.plot(np.array(percent90[1:])/n,'g*', np.array(percent10[:-1])/n, 'ro')\r\n",
        "      plt.plot(np.array(percent10[:-2])/n- np.array(percent90[1:-1])/n, 'ro')\r\n",
        "      plt.show()\r\n",
        "      # diff = [(a_i - b_i)/n for a_i, b_i in zip(percent90, percent10)]\r\n",
        "      # plt.plot(diff, 'bo')\r\n",
        "      plt.show()\r\n"
      ],
      "execution_count": 10,
      "outputs": []
    },
    {
      "cell_type": "markdown",
      "metadata": {
        "id": "WtbQdYPhDkG2"
      },
      "source": [
        "From the above computation, we can observe that ``pvalue = 1`` or ``kvalue =1`` are not good choices. In some of the plots the difference is not stable. \r\n",
        "\r\n",
        "#### Fixing pvalue and kvalue, increasing population size:"
      ]
    },
    {
      "cell_type": "code",
      "metadata": {
        "id": "oAcJD6LnEcRu",
        "cellView": "form"
      },
      "source": [
        "#@title Fix the pvalues and kvalues, let's look at different population sizes:\r\n",
        "#\r\n",
        "#@markdown make sure .txt files are uploaded\r\n",
        "#\r\n",
        "# Import the required libraries\r\n",
        "\r\n",
        "path = \"/content/drive/My Drive/Colab_majority/clock_hitting_time_p10_p90_\"\r\n",
        "\r\n",
        "# population_size = \"P_0.100000_K_3\" #@param [\"P_0.100000_K_2\", \"P_0.100000_K_3\", \"P_0.100000_K_4\", \"P_0.100000_K_5\", \"P_0.010000_K_2\", \"P_0.010000_K_2\", \"P_0.010000_K_3\"]\r\n",
        "kval = \"3\" #@param [\"2\", \"3\", \"4\", \"5\"]\r\n",
        "pval = \"0.1\" #@param [\"0.1\", \"0.01\", \"0.001\", \"0.0001\"]\r\n",
        "# p = float(population_size.split(\"_\")[1])\r\n",
        "# k = int(population_size.split(\"_\")[3])\r\n",
        "\r\n",
        "pvalue = float(pval)\r\n",
        "k = int(kval)\r\n",
        "\r\n",
        "pk_description = \"P_{:.6f}_K_{}\".format(float(pvalue), k)\r\n",
        "filename = path+pk_description+\".txt\"\r\n",
        "# Using readlines() \r\n",
        "file1 = open(filename, 'r') \r\n",
        "Lines = file1.readlines() \r\n",
        "  \r\n",
        "count = 0\r\n",
        "# Strips the newline character \r\n",
        "n = 1;\r\n",
        "logn = 1;\r\n",
        "for line in Lines: \r\n",
        "    count+=1\r\n",
        "    # print(\"Line{}: {}\".format(count, line.strip()))\r\n",
        "    if count%3 == 1:\r\n",
        "      s = line.strip().split(\"_\")\r\n",
        "      # print(s)\r\n",
        "      n = int(s[1])      \r\n",
        "      logn = int(s[3])      \r\n",
        "      print(f\"Population size (n) is {n} and log(n) is {logn} (number of hours).\") \r\n",
        "    elif count%3 == 2:      \r\n",
        "      percent10 = [int(s) for s in line.strip()[1:-1].split(\",\")]      \r\n",
        "      print(f\"10%: {percent10}\")\r\n",
        "    else: \r\n",
        "      percent90 = [int(s) for s in line.strip()[1:-1].split(\",\")]\r\n",
        "      print(f\"90%: {percent90}\")\r\n",
        "      # plt.plot(percent10,'g*', percent90, 'ro')\r\n",
        "      # plt.show()\r\n",
        "      diff = [(a_i - b_i)/n for a_i, b_i in zip(percent90, percent10)]\r\n",
        "      plt.plot(diff, 'bo')\r\n",
        "      plt.show()\r\n"
      ],
      "execution_count": null,
      "outputs": []
    },
    {
      "cell_type": "markdown",
      "metadata": {
        "id": "m-Jrb-eMOvMP"
      },
      "source": [
        "# Plots from Java simuations\n",
        "\n",
        "**To use this notebook, click on 'Runtime' and select 'Run all'**."
      ]
    },
    {
      "cell_type": "code",
      "metadata": {
        "id": "iVcpgbNr_m5l",
        "cellView": "form"
      },
      "source": [
        "#@title Technical details: data selection\n",
        "#\n",
        "#\n",
        "#@markdown make sure .txt files are uploaded\n",
        "#\n",
        "\n",
        "_PATH = \"/content/drive/My Drive/Colab Notebooks/constant_interval_clock_\"\n",
        "_LEVEL = \"levels_\"\n",
        "_DRIP = \"drip_\"\n",
        "\n",
        "_LEVELD = \"levelsd_\"\n",
        "_DRIPD = \"dripd_\"\n",
        "\n",
        "def get_clock_levels(filename, size, k):\n",
        "  exist = True\n",
        "  try:\n",
        "    df = pd.read_csv(_PATH+filename+size+\".txt\", delimiter=\"\\s+|;|,|\\[|\\]\",\n",
        "                                      names=None, \n",
        "                                      header=None, \n",
        "                                      engine=\"python\")  \n",
        "    df.dropna(axis=1, inplace=True)\n",
        "    df.columns = [str(x) for x in range(0,_LOG*k+1)]  \n",
        "          \n",
        "  except:\n",
        "    exist = False;\n",
        "    df = pd.DataFrame\n",
        "    print(\"there is no %s files\"%filename)  \n",
        "  return df, exist\n"
      ],
      "execution_count": null,
      "outputs": []
    },
    {
      "cell_type": "code",
      "metadata": {
        "id": "YaJPrlmKOVfN",
        "cellView": "form"
      },
      "source": [
        "#@title Select a population size to plot { run: \"auto\" }\n",
        "## @markdown N: population size; LOG: log(N); PValue: dripping probability ; K: max level = k*log n\n",
        "## @markdown Every screen shot is taken after n/2 interactions for \"N_16065_LOG_13\", \"N_28187_LOG_14\", \"N_154285_LOG_17\", \"N_487291_LOG_18\", \"N_2439409_LOG_21\",\n",
        "## @markdown Every screen shot is taken after n interactions for \"N_5311784_LOG_22\", \"N_13871538_LOG_23\", \"N_18483817_LOG_24\"\n",
        "## @markdown clock with leak: \"N_90010_LOG_16\",\"N_120069_LOG_16\"\n",
        "\n",
        "## @markdown delayed: \"N_3422_LOG_11\", \"N_16464_LOG_14\"\n",
        "## @markdown pvalue : 1 \"N_746972_LOG_19\", \"N_3738_LOG_11\"\n",
        "file_description = \"N_18353_LOG_14\" #@param [\"N_14505_LOG_13\", \"N_18353_LOG_14\"]\n",
        "\n",
        "_N = int(file_description.split('_')[1])\n",
        "_LOG = int(file_description.split('_')[3])\n",
        "p_value = \"0.1\"#@param [\"1\", \"0.1\", \"0.01\", \"0.001\", \"0.0001\"]\n",
        "k = \"2\"#@param [\"1\", \"2\", \"3\", \"4\", \"5\"]\n",
        "\n",
        "file_description = \"N_{}_LOG_{}_P_{:.6f}_K_{}\".format(_N, _LOG, float(p_value), k)\n",
        "\n",
        "_PVALUE = float(file_description.split('_')[5])\n",
        "_K = int(file_description.split('_')[7])\n",
        "\n",
        "print(\"n: \",_N, \"; log(n): \",_LOG, \"; dripping probability:\", _PVALUE, \"; max level: \", _K, \"log(n)\")\n",
        "\n",
        "try:\n",
        "  levels, exist= get_clock_levels(_LEVEL,file_description, _K)\n",
        "  drips, exist = get_clock_levels(_DRIP, file_description, _K)\n",
        "except:\n",
        "  print(\"file is missing!\")\n",
        "\n",
        "# try:\n",
        "#   levels_d, exist= get_clock_levels(_LEVELD,file_description, _K)\n",
        "#   drips_d, exist = get_clock_levels(_DRIPD, file_description, _K)\n",
        "# except:\n",
        "#   print(\"delayed file is missing!\")\n"
      ],
      "execution_count": null,
      "outputs": []
    },
    {
      "cell_type": "code",
      "metadata": {
        "id": "4gxz6bXIzhwW"
      },
      "source": [
        "levels"
      ],
      "execution_count": null,
      "outputs": []
    },
    {
      "cell_type": "code",
      "metadata": {
        "id": "t9KUmLcytIQM"
      },
      "source": [
        "# levels_d"
      ],
      "execution_count": null,
      "outputs": []
    },
    {
      "cell_type": "code",
      "metadata": {
        "id": "eLVkMIGXwQot"
      },
      "source": [
        "# dripped count only\n",
        "drips"
      ],
      "execution_count": null,
      "outputs": []
    },
    {
      "cell_type": "code",
      "metadata": {
        "id": "faDnwI_iQiWF",
        "cellView": "form"
      },
      "source": [
        "#@title Technical details: plotting\n",
        "#\n",
        "def state_bar_plot(data, time, yscale = \"linear\"):\n",
        "  dist = [data[str(i)][time] for i in range(0,_LOG*_K + 1)]\n",
        "  plt.figure(figsize=(12,6))\n",
        "  plt.bar(range(-_LOG,_LOG + 1),dist)\n",
        "  plt.title(f\"Time step {time}\")\n",
        "  plt.yscale(yscale)\n",
        "  plt.ylim(bottom = 1, top = _N)\n",
        "  plt.show()\n",
        "\n",
        "def drip_bar_plot(total, drip, time, yscale = \"linear\"):\n",
        "  total_dist = np.array([total[str(i)][time] for i in range(0,_LOG*_K + 1)])\n",
        "  drip_dist = np.array([drip[str(i)][time] for i in range(0,_LOG*_K + 1)])\n",
        "  no_drip_dist = total_dist - drip_dist\n",
        "  plt.figure(figsize=(12,6))\n",
        "  plt.bar(range(0,_LOG*_K + 1),no_drip_dist)\n",
        "  plt.bar(range(0,_LOG*_K + 1),drip_dist, bottom = no_drip_dist)\n",
        "  plt.legend([\"Epidemic\",\"Drip\"])\n",
        "  plt.title(f\"Time step {time}\")\n",
        "  plt.hlines(y=(math.sqrt(_N))/_PVALUE, xmin=0, xmax=_LOG*_K , colors='aqua', linestyles='-', lw=2, label='n^0.5')\n",
        "  # plt.hlines(y=pow(_N,0.25), xmin=0, xmax=_LOG*_K , colors='green', linestyles='-', lw=2, label='n^0.25')\n",
        "  # plt.hlines(y=pow(_N,0.75), xmin=0, xmax=_LOG*_K , colors='blue', linestyles='-', lw=2, label='n^0.75')\n",
        "  plt.yscale(yscale)\n",
        "  plt.ylim(bottom = 1, top = _N)\n",
        "  plt.show()\n"
      ],
      "execution_count": null,
      "outputs": []
    },
    {
      "cell_type": "markdown",
      "metadata": {
        "id": "2l4cOqa0sg2_"
      },
      "source": [
        "# Visualizing Clock Movement\n"
      ]
    },
    {
      "cell_type": "code",
      "metadata": {
        "id": "VsmgPrq6thzN"
      },
      "source": [
        "print(\"Levels:\")\n",
        "# levels.plot(figsize=(12,6))\n",
        "interact(drip_bar_plot, total = fixed(levels), drip = fixed(drips), time = widgets.IntSlider(min=0, max=len(levels)-1, step=1, value=0), yscale = [\"linear\", \"log\"])"
      ],
      "execution_count": null,
      "outputs": []
    },
    {
      "cell_type": "code",
      "metadata": {
        "id": "Nwyux7wSwmqt"
      },
      "source": [
        "# print(\"LevelsD:\")\r\n",
        "# # levels.plot(figsize=(12,6))\r\n",
        "# interact(drip_bar_plot, total = fixed(levels_d), drip = fixed(drips_d), time = widgets.IntSlider(min=0, max=len(levels_d)-1, step=1, value=0), yscale = [\"linear\", \"log\"])"
      ],
      "execution_count": null,
      "outputs": []
    },
    {
      "cell_type": "markdown",
      "metadata": {
        "id": "SlPxco83MMhQ"
      },
      "source": [
        "## Comparing Pvalues: \n"
      ]
    },
    {
      "cell_type": "code",
      "metadata": {
        "id": "JSkp4RX3MTP2"
      },
      "source": [
        "# file name format: \"N_139476_LOG_17_P_0.000100_K_5\"\n",
        "file_description = \"N_{}_LOG_{}_P_{:.6f}_K_{}\".format(_N, _LOG, .1, _K)\n",
        "\n",
        "for i in range(4):    \n",
        "  try:    \n",
        "    _PVALUE = float(file_description.split('_')[5])\n",
        "    print(\"n: \",_N, \"; log(n): \",_LOG, \"; drip probability:\", _PVALUE, \"; max level: \", _K, \"log(n)\")\n",
        "    levels, exist= get_clock_levels(_LEVEL,file_description, _K)\n",
        "    drips, exist = get_clock_levels(_DRIP, file_description, _K)\n",
        "    interact(drip_bar_plot, total = fixed(levels), drip = fixed(drips), time = widgets.IntSlider(min=0, max=len(levels)-1, step=1, value=0), yscale = [\"linear\", \"log\"])\n",
        "  except:\n",
        "    print(\"file is missing!\")\n",
        "  _PVALUE = _PVALUE/10  \n",
        "  file_description = \"N_{}_LOG_{}_P_{:.6f}_K_{}\".format(_N, _LOG, _PVALUE, _K)"
      ],
      "execution_count": null,
      "outputs": []
    }
  ]
}